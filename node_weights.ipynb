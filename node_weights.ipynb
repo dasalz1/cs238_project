{
 "cells": [
  {
   "cell_type": "code",
   "execution_count": 1,
   "metadata": {},
   "outputs": [],
   "source": [
    "import osmnx as ox\n",
    "import pandas as pd\n",
    "import numpy as np"
   ]
  },
  {
   "cell_type": "code",
   "execution_count": 2,
   "metadata": {},
   "outputs": [],
   "source": [
    "# longitude is x, latitude is y\n",
    "\n",
    "G = ox.graph_from_place('San Francisco, CA, USA', network_type='drive')\n",
    "nodes = ox.graph_to_gdfs(G, edges=False)"
   ]
  },
  {
   "cell_type": "code",
   "execution_count": 3,
   "metadata": {},
   "outputs": [],
   "source": [
    "temp_cols = list(nodes.columns)\n",
    "temp_cols[temp_cols.index('x')] = 'lng'; temp_cols[temp_cols.index('y')] = 'lat'\n",
    "nodes.columns = temp_cols\n",
    "nodes = nodes.sort_index()"
   ]
  },
  {
   "cell_type": "code",
   "execution_count": 4,
   "metadata": {},
   "outputs": [],
   "source": [
    "# create mapping from original node number names to new node number names\n",
    "\n",
    "node_name_map = {}; node_name_map_inv = {}\n",
    "node_og = list(nodes.index)\n",
    "num_nodes = len(node_og)\n",
    "for i in range(num_nodes):\n",
    "    node_name_map[i] = node_og[i]\n",
    "    node_name_map_inv[node_og[i]] = i\n",
    "nodes.index = range(nodes.shape[0])"
   ]
  },
  {
   "cell_type": "code",
   "execution_count": 5,
   "metadata": {},
   "outputs": [
    {
     "name": "stderr",
     "output_type": "stream",
     "text": [
      "/Library/Frameworks/Python.framework/Versions/3.7/lib/python3.7/site-packages/IPython/core/interactiveshell.py:3058: DtypeWarning: Columns (6) have mixed types. Specify dtype option on import or set low_memory=False.\n",
      "  interactivity=interactivity, compiler=compiler, result=result)\n"
     ]
    }
   ],
   "source": [
    "df_police_stops = pd.read_csv('ca_san_francisco_2019_08_13.csv')\n",
    "df_police_stops = df_police_stops[pd.notnull(df_police_stops['lng'])]\n",
    "df_police_stops = df_police_stops[pd.notnull(df_police_stops['lat'])]"
   ]
  },
  {
   "cell_type": "code",
   "execution_count": 6,
   "metadata": {},
   "outputs": [],
   "source": [
    "def haversine_np(long1, lat1, long2, lat2):\n",
    "    \"\"\"\n",
    "    Calculate the great circle distance between an array of points to a single point\n",
    "    on the earth (specified in decimal degrees)\n",
    "\n",
    "    All args must be of equal length.    \n",
    "\n",
    "    \"\"\"\n",
    "    long1, lat1, long2, lat2 = map(np.radians, [long1, lat1, long2, lat2])\n",
    "\n",
    "    dlon = long2 - long1\n",
    "    dlat = lat2 - lat1\n",
    "\n",
    "    a = np.sin(dlat/2.0)**2 + np.cos(lat1) * np.cos(lat2) * np.sin(dlon/2.0)**2\n",
    "\n",
    "    c = 2 * np.arcsin(np.sqrt(a))\n",
    "    km = 6367 * c\n",
    "    return km"
   ]
  },
  {
   "cell_type": "code",
   "execution_count": 10,
   "metadata": {
    "scrolled": true
   },
   "outputs": [
    {
     "name": "stdout",
     "output_type": "stream",
     "text": [
      "0/903373\n",
      "10000/903373\n",
      "20000/903373\n",
      "30000/903373\n",
      "40000/903373\n",
      "50000/903373\n",
      "60000/903373\n",
      "70000/903373\n",
      "80000/903373\n",
      "90000/903373\n",
      "100000/903373\n",
      "110000/903373\n",
      "120000/903373\n",
      "130000/903373\n",
      "140000/903373\n",
      "150000/903373\n",
      "160000/903373\n",
      "170000/903373\n",
      "180000/903373\n",
      "190000/903373\n",
      "200000/903373\n",
      "210000/903373\n",
      "220000/903373\n",
      "230000/903373\n",
      "240000/903373\n",
      "250000/903373\n",
      "260000/903373\n",
      "270000/903373\n",
      "280000/903373\n",
      "290000/903373\n",
      "300000/903373\n",
      "310000/903373\n",
      "320000/903373\n",
      "330000/903373\n",
      "340000/903373\n",
      "350000/903373\n",
      "360000/903373\n",
      "370000/903373\n",
      "380000/903373\n",
      "390000/903373\n",
      "400000/903373\n",
      "410000/903373\n",
      "420000/903373\n",
      "430000/903373\n",
      "440000/903373\n",
      "450000/903373\n",
      "460000/903373\n",
      "470000/903373\n",
      "480000/903373\n",
      "490000/903373\n",
      "500000/903373\n",
      "510000/903373\n",
      "520000/903373\n",
      "530000/903373\n",
      "540000/903373\n",
      "550000/903373\n",
      "560000/903373\n",
      "570000/903373\n",
      "580000/903373\n",
      "590000/903373\n",
      "600000/903373\n",
      "610000/903373\n",
      "620000/903373\n",
      "630000/903373\n",
      "640000/903373\n",
      "650000/903373\n",
      "660000/903373\n",
      "670000/903373\n",
      "680000/903373\n",
      "690000/903373\n",
      "700000/903373\n",
      "710000/903373\n",
      "720000/903373\n",
      "730000/903373\n",
      "740000/903373\n",
      "750000/903373\n",
      "760000/903373\n",
      "770000/903373\n",
      "780000/903373\n",
      "790000/903373\n",
      "800000/903373\n",
      "810000/903373\n",
      "820000/903373\n",
      "830000/903373\n",
      "840000/903373\n",
      "850000/903373\n",
      "860000/903373\n",
      "870000/903373\n",
      "880000/903373\n",
      "890000/903373\n",
      "900000/903373\n"
     ]
    }
   ],
   "source": [
    "from scipy.spatial import distance as dist\n",
    "from time import time\n",
    "\n",
    "coords = nodes[['lng', 'lat']].values\n",
    "long1 = np.array(coords)[:, 0]\n",
    "lat1 = np.array(coords)[:, 1]\n",
    "batch_size = 500\n",
    "police_stops = {}\n",
    "m = df_police_stops.shape[0]\n",
    "for i in range(0, m, batch_size):\n",
    "    if i % 10000 == 0: print('%d/%d' % (i, m))\n",
    "    if i + batch_size >= m:\n",
    "        stop_coords = df_police_stops[['lng', 'lat']].values[i:]\n",
    "    else:\n",
    "        stop_coords = df_police_stops[['lng', 'lat']].values[i:i+batch_size]\n",
    "    \n",
    "    associated_nodes = np.array([haversine_np(long1, lat1, long2, lat2) for (long2, lat2) in stop_coords]).argmin(axis=1)\n",
    "#     associated_nodes = dist.cdist(coords, stop_coords).argmin(axis=0)\n",
    "    for idx in range(len(associated_nodes)):\n",
    "        police_stops[associated_nodes[idx]] = police_stops.get(associated_nodes[idx], []) + [df_police_stops.iloc[i+idx].values]\n",
    "        "
   ]
  },
  {
   "cell_type": "code",
   "execution_count": 53,
   "metadata": {},
   "outputs": [],
   "source": [
    "max_edges = 0\n",
    "rewards = {}\n",
    "worse_reward = -100000\n",
    "for node in range(num_nodes):\n",
    "    edges = list(G[nodes.iloc[node]['osmid']]) # G has the edges as the original node numbers thats what osmid is\n",
    "    max_edges = max(max_edges, len(edges))\n",
    "    # convert the edges from original names to new renamed, sorted is just to keep actions in some kind of order\n",
    "    # for example the 1st action will always be the first chronological node based on naming\n",
    "    edges = sorted([node_name_map_inv[edge] for edge in edges]) \n",
    "    # set reward of going to this edge equal to negative number of police stops at this node\n",
    "    # if there are no police stops at the edge set reward to 0\n",
    "    rewards[node] = [-len(police_stops[edge]) if edge in police_stops else 0 for edge in edges]\n",
    "    \n",
    "# fill terrible reward for nodes that have less total actions, encodes impossible actions essentially\n",
    "for node in range(num_nodes):\n",
    "    curr_actions = rewards[node]\n",
    "    rewards[node] = curr_actions + [worse_reward]*(max_edges-len(curr_actions))"
   ]
  },
  {
   "cell_type": "code",
   "execution_count": 61,
   "metadata": {},
   "outputs": [],
   "source": [
    "import pickle\n",
    "\n",
    "with open('nodes_with_police_stops.pickle', 'wb') as handle:\n",
    "    pickle.dump(police_stops, handle, protocol=pickle.HIGHEST_PROTOCOL)\n",
    "    \n",
    "with open('police_stop_rewards.pickle', 'wb') as handle:\n",
    "    pickle.dump(rewards, handle, protocol=pickle.HIGHEST_PROTOCOL)"
   ]
  },
  {
   "cell_type": "code",
   "execution_count": null,
   "metadata": {},
   "outputs": [],
   "source": [
    "with open('nodes_with_police_stops.pickle', 'rb') as handle:\n",
    "    police_stops = pickle.load(handle)"
   ]
  },
  {
   "cell_type": "code",
   "execution_count": null,
   "metadata": {},
   "outputs": [],
   "source": []
  }
 ],
 "metadata": {
  "kernelspec": {
   "display_name": "Python 3",
   "language": "python",
   "name": "python3"
  },
  "language_info": {
   "codemirror_mode": {
    "name": "ipython",
    "version": 3
   },
   "file_extension": ".py",
   "mimetype": "text/x-python",
   "name": "python",
   "nbconvert_exporter": "python",
   "pygments_lexer": "ipython3",
   "version": "3.7.0"
  }
 },
 "nbformat": 4,
 "nbformat_minor": 2
}
