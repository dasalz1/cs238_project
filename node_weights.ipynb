{
 "cells": [
  {
   "cell_type": "code",
   "execution_count": 1,
   "metadata": {},
   "outputs": [],
   "source": [
    "import osmnx as ox\n",
    "import pandas as pd\n",
    "import numpy as np"
   ]
  },
  {
   "cell_type": "code",
   "execution_count": 2,
   "metadata": {},
   "outputs": [],
   "source": [
    "# longitude is x, latitude is y\n",
    "\n",
    "G = ox.graph_from_place('San Francisco, CA, USA', network_type='drive')\n",
    "nodes = ox.graph_to_gdfs(G, edges=False)"
   ]
  },
  {
   "cell_type": "code",
   "execution_count": 3,
   "metadata": {},
   "outputs": [],
   "source": [
    "temp_cols = list(nodes.columns)\n",
    "temp_cols[temp_cols.index('x')] = 'lng'; temp_cols[temp_cols.index('y')] = 'lat'\n",
    "nodes.columns = temp_cols\n",
    "nodes = nodes.sort_values(by=['lat', 'lng'])\n",
    "nodes.index = range(nodes.shape[0])"
   ]
  },
  {
   "cell_type": "code",
   "execution_count": 4,
   "metadata": {},
   "outputs": [
    {
     "name": "stderr",
     "output_type": "stream",
     "text": [
      "/Library/Frameworks/Python.framework/Versions/3.7/lib/python3.7/site-packages/IPython/core/interactiveshell.py:3058: DtypeWarning: Columns (6) have mixed types. Specify dtype option on import or set low_memory=False.\n",
      "  interactivity=interactivity, compiler=compiler, result=result)\n"
     ]
    }
   ],
   "source": [
    "df_police_stops = pd.read_csv('ca_san_francisco_2019_08_13.csv')"
   ]
  },
  {
   "cell_type": "code",
   "execution_count": 11,
   "metadata": {
    "scrolled": true
   },
   "outputs": [
    {
     "name": "stdout",
     "output_type": "stream",
     "text": [
      "0/905070\n",
      "10000/905070\n",
      "20000/905070\n",
      "30000/905070\n",
      "40000/905070\n",
      "50000/905070\n",
      "60000/905070\n",
      "70000/905070\n",
      "80000/905070\n",
      "90000/905070\n",
      "100000/905070\n",
      "110000/905070\n",
      "120000/905070\n",
      "130000/905070\n",
      "140000/905070\n",
      "150000/905070\n",
      "160000/905070\n",
      "170000/905070\n",
      "180000/905070\n",
      "190000/905070\n",
      "200000/905070\n",
      "210000/905070\n",
      "220000/905070\n",
      "230000/905070\n",
      "240000/905070\n",
      "250000/905070\n",
      "260000/905070\n",
      "270000/905070\n",
      "280000/905070\n",
      "290000/905070\n",
      "300000/905070\n",
      "310000/905070\n",
      "320000/905070\n",
      "330000/905070\n",
      "340000/905070\n",
      "350000/905070\n",
      "360000/905070\n",
      "370000/905070\n",
      "380000/905070\n",
      "390000/905070\n",
      "400000/905070\n",
      "410000/905070\n",
      "420000/905070\n",
      "430000/905070\n",
      "440000/905070\n",
      "450000/905070\n",
      "460000/905070\n",
      "470000/905070\n",
      "480000/905070\n",
      "490000/905070\n",
      "500000/905070\n",
      "510000/905070\n",
      "520000/905070\n",
      "530000/905070\n",
      "540000/905070\n",
      "550000/905070\n",
      "560000/905070\n",
      "570000/905070\n",
      "580000/905070\n",
      "590000/905070\n",
      "600000/905070\n",
      "610000/905070\n",
      "620000/905070\n",
      "630000/905070\n",
      "640000/905070\n",
      "650000/905070\n",
      "660000/905070\n",
      "670000/905070\n",
      "680000/905070\n",
      "690000/905070\n",
      "700000/905070\n",
      "710000/905070\n",
      "720000/905070\n",
      "730000/905070\n",
      "740000/905070\n",
      "750000/905070\n",
      "760000/905070\n",
      "770000/905070\n",
      "780000/905070\n",
      "790000/905070\n",
      "800000/905070\n",
      "810000/905070\n",
      "820000/905070\n",
      "830000/905070\n",
      "840000/905070\n",
      "850000/905070\n",
      "860000/905070\n",
      "870000/905070\n",
      "880000/905070\n",
      "890000/905070\n",
      "900000/905070\n"
     ]
    }
   ],
   "source": [
    "from scipy.spatial import distance as dist\n",
    "from time import time\n",
    "\n",
    "coords = nodes[['lng', 'lat']].values\n",
    "batch_size = 1000\n",
    "police_stops = {}\n",
    "m = df_police_stops.shape[0]\n",
    "for i in range(0, m, batch_size):\n",
    "    if i % 10000 == 0: print('%d/%d' % (i, m))\n",
    "    if i + batch_size >= m:\n",
    "        stop_coords = df_police_stops[['lng', 'lat']].values[i:]\n",
    "    else:\n",
    "        stop_coords = df_police_stops[['lng', 'lat']].values[i:i+batch_size]\n",
    "        \n",
    "    associated_nodes = dist.cdist(coords, stop_coords).argmin(axis=0)\n",
    "    for i in range(len(associated_nodes)):\n",
    "        police_stops[associated_nodes[i]] = police_stops.get(associated_nodes[i], []) + [df_police_stops.iloc[i].values]"
   ]
  },
  {
   "cell_type": "code",
   "execution_count": 25,
   "metadata": {},
   "outputs": [],
   "source": [
    "import pickle\n",
    "\n",
    "with open('nodes_with_police_stops.pickle', 'wb') as handle:\n",
    "    pickle.dump(police_stops, handle, protocol=pickle.HIGHEST_PROTOCOL)"
   ]
  },
  {
   "cell_type": "code",
   "execution_count": null,
   "metadata": {},
   "outputs": [],
   "source": [
    "with open('nodes_with_police_stops.pickle', 'rb') as handle:\n",
    "    police_stops = pickle.load(handle)"
   ]
  },
  {
   "cell_type": "code",
   "execution_count": null,
   "metadata": {},
   "outputs": [],
   "source": []
  }
 ],
 "metadata": {
  "kernelspec": {
   "display_name": "Python 3",
   "language": "python",
   "name": "python3"
  },
  "language_info": {
   "codemirror_mode": {
    "name": "ipython",
    "version": 3
   },
   "file_extension": ".py",
   "mimetype": "text/x-python",
   "name": "python",
   "nbconvert_exporter": "python",
   "pygments_lexer": "ipython3",
   "version": "3.7.0"
  }
 },
 "nbformat": 4,
 "nbformat_minor": 2
}
